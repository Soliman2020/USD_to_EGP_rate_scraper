{
 "cells": [
  {
   "cell_type": "code",
   "execution_count": 13,
   "metadata": {},
   "outputs": [
    {
     "name": "stdout",
     "output_type": "stream",
     "text": [
      "1 USD to EGP - US Dollars to Egyptian Pounds Exchange Rate\n",
      "USD = 18.497 EGP @ 11:04:27 26/03/22\n",
      "USD = 18.497 EGP @ 11:04:37 26/03/22\n",
      "USD = 18.497 EGP @ 11:04:46 26/03/22\n",
      "USD = 18.497 EGP @ 11:05:03 26/03/22\n",
      "USD = 18.497 EGP @ 11:05:12 26/03/22\n",
      "___ Thanks ___\n"
     ]
    }
   ],
   "source": [
    "from selenium import webdriver\n",
    "from selenium.webdriver.common.by import By\n",
    "import time\n",
    "from datetime import datetime\n",
    "\n",
    "## link to chromedriver.exe pass in case it wasn't in the same directory.\n",
    "# driver = webdriver.Chrome('chromedriver.exe PATH')\n",
    "driver = webdriver.Chrome()\n",
    "\n",
    "\n",
    "url = 'https://www.xe.com/currencyconverter/convert/?Amount=1&From=USD&To=EGP'\n",
    "\n",
    "# from webdriver_manager.chrome import ChromeDriverManager  # using in case path error\n",
    "# driver = webdriver.Chrome(ChromeDriverManager().install())  \n",
    "\n",
    "driver.get(url)\n",
    "\n",
    "# print page title\n",
    "print(driver.title)\n",
    "\n",
    "# Ask user to enter the prefered refresh rate.\n",
    "refresh_rate = int(input('Enter the refresh rate in seconds?'))\n",
    "\n",
    "while True:\n",
    "    time.sleep(refresh_rate)\n",
    "    driver.refresh( )\n",
    "    now = datetime.now( )\n",
    "    current_time = now.strftime(\"%H:%M:%S %d/%m/%y\")\n",
    "\n",
    "    targetElement = driver.find_element(by=By.CSS_SELECTOR, value=\"p.result__BigRate-sc-1bsijpp-1.iGrAod\")\n",
    "    ## CSS old method / not recommended:\n",
    "    # targetElement = driver.find_element_by_css_selector(\"p.result__BigRate-sc-1bsijpp-1.iGrAod\")\n",
    "    ## Also we can use XPath method and get the same results:\n",
    "    # targetElement = driver.find_element(by=\"xpath\", value=\".//div[1]/div[2]/div[2]/section/div[2]/div/main/form/div[2]/div[1]/p[2]\")\n",
    "    \n",
    "    result = targetElement.text[:9]\n",
    "    approx = round(float(result),4)\n",
    "\n",
    "    print(f\"USD = {approx} EGP @ {current_time}\")\n",
    "    \n",
    "    get_new_rate = input('\\nWould you like to get new updated rate? Enter \\'y\\' to confirm or any other entry to shutdown. \\n')\n",
    "    if get_new_rate.lower() != 'y':\n",
    "        print('___ Thanks ___')\n",
    "        driver.close()\n",
    "        break"
   ]
  }
 ],
 "metadata": {
  "interpreter": {
   "hash": "fc60f718a0b10711cf4618ec92512593dff58d782c4a1d6552c3e4cbbf369ad7"
  },
  "kernelspec": {
   "display_name": "Python 3.9.6 64-bit",
   "language": "python",
   "name": "python3"
  },
  "language_info": {
   "codemirror_mode": {
    "name": "ipython",
    "version": 3
   },
   "file_extension": ".py",
   "mimetype": "text/x-python",
   "name": "python",
   "nbconvert_exporter": "python",
   "pygments_lexer": "ipython3",
   "version": "3.9.6"
  },
  "orig_nbformat": 4
 },
 "nbformat": 4,
 "nbformat_minor": 2
}
